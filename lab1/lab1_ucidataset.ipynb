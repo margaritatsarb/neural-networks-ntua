{
  "nbformat": 4,
  "nbformat_minor": 0,
  "metadata": {
    "colab": {
      "provenance": []
    },
    "kernelspec": {
      "name": "python3",
      "display_name": "Python 3"
    },
    "language_info": {
      "name": "python"
    }
  },
  "cells": [
    {
      "cell_type": "markdown",
      "source": [
        "# Μέρος Α) UCI dataset \n",
        "Σοφία Μπαρκάτσα (el18204), Σμαραγδή Μπενέτου (el18048), Μαργαρίτα Τσαρμποπούλου (el18848)"
      ],
      "metadata": {
        "id": "8iP2fI2iATYs"
      }
    },
    {
      "cell_type": "code",
      "execution_count": null,
      "metadata": {
        "id": "8XXflfcLJ-NF"
      },
      "outputs": [],
      "source": [
        "import random\n",
        "import numpy as np\n",
        "import matplotlib.pyplot as plt\n",
        "import sklearn\n",
        "import pandas as pd\n",
        "from sklearn.model_selection import train_test_split\n",
        "from sklearn.dummy import DummyClassifier\n",
        "from sklearn import metrics\n",
        "from sklearn.naive_bayes import GaussianNB\n",
        "from sklearn.neighbors import KNeighborsClassifier\n",
        "from sklearn.linear_model import LogisticRegression\n",
        "\n",
        "from sklearn.model_selection import cross_val_score\n",
        "from sklearn.decomposition import PCA\n",
        "from sklearn.model_selection import cross_val_score\n",
        "\n",
        "from sklearn.model_selection import GridSearchCV\n",
        "from imblearn.pipeline import Pipeline\n",
        "from sklearn.metrics import classification_report\n",
        "# φέρνουμε τις γνωστές μας κλάσεις για preprocessing\n",
        "from sklearn.feature_selection import VarianceThreshold\n",
        "from sklearn.preprocessing import StandardScaler \n",
        "from imblearn.over_sampling import RandomOverSampler\n",
        "from sklearn.decomposition import PCA\n",
        "\n",
        "import seaborn as sns\n",
        "from google.colab import drive\n",
        "drive.mount('/content/drive')"
      ]
    },
    {
      "cell_type": "code",
      "source": [
        "random.seed(1) #για σταθερά αποτελέσματα σε κάθε εκτελεση του Notebook"
      ],
      "metadata": {
        "id": "2R0Msxr6mMQF"
      },
      "execution_count": 102,
      "outputs": []
    },
    {
      "cell_type": "markdown",
      "source": [
        "### Εισαγωγή του dataset από το αρχείο text στο notebook"
      ],
      "metadata": {
        "id": "jVN8FfwfTKVQ"
      }
    },
    {
      "cell_type": "code",
      "source": [
        "df = pd.read_csv('/content/drive/MyDrive/Σχολή/neural_networks/ionosphere.txt', delimiter=',', header=None)\n",
        "#τυπώνουμε τις 5 πρώτες γραμμές και κολόνες\n",
        "df.head()"
      ],
      "metadata": {
        "colab": {
          "base_uri": "https://localhost:8080/",
          "height": 300
        },
        "id": "uz56S1KQKuFC",
        "outputId": "3f996444-ba60-4e51-8927-a32a8642fd7f"
      },
      "execution_count": 103,
      "outputs": [
        {
          "output_type": "execute_result",
          "data": {
            "text/plain": [
              "   0   1        2        3        4        5        6        7        8   \\\n",
              "0   1   0  0.99539 -0.05889  0.85243  0.02306  0.83398 -0.37708  1.00000   \n",
              "1   1   0  1.00000 -0.18829  0.93035 -0.36156 -0.10868 -0.93597  1.00000   \n",
              "2   1   0  1.00000 -0.03365  1.00000  0.00485  1.00000 -0.12062  0.88965   \n",
              "3   1   0  1.00000 -0.45161  1.00000  1.00000  0.71216 -1.00000  0.00000   \n",
              "4   1   0  1.00000 -0.02401  0.94140  0.06531  0.92106 -0.23255  0.77152   \n",
              "\n",
              "        9   ...       25       26       27       28       29       30  \\\n",
              "0  0.03760  ... -0.51171  0.41078 -0.46168  0.21266 -0.34090  0.42267   \n",
              "1 -0.04549  ... -0.26569 -0.20468 -0.18401 -0.19040 -0.11593 -0.16626   \n",
              "2  0.01198  ... -0.40220  0.58984 -0.22145  0.43100 -0.17365  0.60436   \n",
              "3  0.00000  ...  0.90695  0.51613  1.00000  1.00000 -0.20099  0.25682   \n",
              "4 -0.16399  ... -0.65158  0.13290 -0.53206  0.02431 -0.62197 -0.05707   \n",
              "\n",
              "        31       32       33  34  \n",
              "0 -0.54487  0.18641 -0.45300   g  \n",
              "1 -0.06288 -0.13738 -0.02447   b  \n",
              "2 -0.24180  0.56045 -0.38238   g  \n",
              "3  1.00000 -0.32382  1.00000   b  \n",
              "4 -0.59573 -0.04608 -0.65697   g  \n",
              "\n",
              "[5 rows x 35 columns]"
            ],
            "text/html": [
              "\n",
              "  <div id=\"df-d2aec37a-af7d-4762-af41-cf2dc2270eec\">\n",
              "    <div class=\"colab-df-container\">\n",
              "      <div>\n",
              "<style scoped>\n",
              "    .dataframe tbody tr th:only-of-type {\n",
              "        vertical-align: middle;\n",
              "    }\n",
              "\n",
              "    .dataframe tbody tr th {\n",
              "        vertical-align: top;\n",
              "    }\n",
              "\n",
              "    .dataframe thead th {\n",
              "        text-align: right;\n",
              "    }\n",
              "</style>\n",
              "<table border=\"1\" class=\"dataframe\">\n",
              "  <thead>\n",
              "    <tr style=\"text-align: right;\">\n",
              "      <th></th>\n",
              "      <th>0</th>\n",
              "      <th>1</th>\n",
              "      <th>2</th>\n",
              "      <th>3</th>\n",
              "      <th>4</th>\n",
              "      <th>5</th>\n",
              "      <th>6</th>\n",
              "      <th>7</th>\n",
              "      <th>8</th>\n",
              "      <th>9</th>\n",
              "      <th>...</th>\n",
              "      <th>25</th>\n",
              "      <th>26</th>\n",
              "      <th>27</th>\n",
              "      <th>28</th>\n",
              "      <th>29</th>\n",
              "      <th>30</th>\n",
              "      <th>31</th>\n",
              "      <th>32</th>\n",
              "      <th>33</th>\n",
              "      <th>34</th>\n",
              "    </tr>\n",
              "  </thead>\n",
              "  <tbody>\n",
              "    <tr>\n",
              "      <th>0</th>\n",
              "      <td>1</td>\n",
              "      <td>0</td>\n",
              "      <td>0.99539</td>\n",
              "      <td>-0.05889</td>\n",
              "      <td>0.85243</td>\n",
              "      <td>0.02306</td>\n",
              "      <td>0.83398</td>\n",
              "      <td>-0.37708</td>\n",
              "      <td>1.00000</td>\n",
              "      <td>0.03760</td>\n",
              "      <td>...</td>\n",
              "      <td>-0.51171</td>\n",
              "      <td>0.41078</td>\n",
              "      <td>-0.46168</td>\n",
              "      <td>0.21266</td>\n",
              "      <td>-0.34090</td>\n",
              "      <td>0.42267</td>\n",
              "      <td>-0.54487</td>\n",
              "      <td>0.18641</td>\n",
              "      <td>-0.45300</td>\n",
              "      <td>g</td>\n",
              "    </tr>\n",
              "    <tr>\n",
              "      <th>1</th>\n",
              "      <td>1</td>\n",
              "      <td>0</td>\n",
              "      <td>1.00000</td>\n",
              "      <td>-0.18829</td>\n",
              "      <td>0.93035</td>\n",
              "      <td>-0.36156</td>\n",
              "      <td>-0.10868</td>\n",
              "      <td>-0.93597</td>\n",
              "      <td>1.00000</td>\n",
              "      <td>-0.04549</td>\n",
              "      <td>...</td>\n",
              "      <td>-0.26569</td>\n",
              "      <td>-0.20468</td>\n",
              "      <td>-0.18401</td>\n",
              "      <td>-0.19040</td>\n",
              "      <td>-0.11593</td>\n",
              "      <td>-0.16626</td>\n",
              "      <td>-0.06288</td>\n",
              "      <td>-0.13738</td>\n",
              "      <td>-0.02447</td>\n",
              "      <td>b</td>\n",
              "    </tr>\n",
              "    <tr>\n",
              "      <th>2</th>\n",
              "      <td>1</td>\n",
              "      <td>0</td>\n",
              "      <td>1.00000</td>\n",
              "      <td>-0.03365</td>\n",
              "      <td>1.00000</td>\n",
              "      <td>0.00485</td>\n",
              "      <td>1.00000</td>\n",
              "      <td>-0.12062</td>\n",
              "      <td>0.88965</td>\n",
              "      <td>0.01198</td>\n",
              "      <td>...</td>\n",
              "      <td>-0.40220</td>\n",
              "      <td>0.58984</td>\n",
              "      <td>-0.22145</td>\n",
              "      <td>0.43100</td>\n",
              "      <td>-0.17365</td>\n",
              "      <td>0.60436</td>\n",
              "      <td>-0.24180</td>\n",
              "      <td>0.56045</td>\n",
              "      <td>-0.38238</td>\n",
              "      <td>g</td>\n",
              "    </tr>\n",
              "    <tr>\n",
              "      <th>3</th>\n",
              "      <td>1</td>\n",
              "      <td>0</td>\n",
              "      <td>1.00000</td>\n",
              "      <td>-0.45161</td>\n",
              "      <td>1.00000</td>\n",
              "      <td>1.00000</td>\n",
              "      <td>0.71216</td>\n",
              "      <td>-1.00000</td>\n",
              "      <td>0.00000</td>\n",
              "      <td>0.00000</td>\n",
              "      <td>...</td>\n",
              "      <td>0.90695</td>\n",
              "      <td>0.51613</td>\n",
              "      <td>1.00000</td>\n",
              "      <td>1.00000</td>\n",
              "      <td>-0.20099</td>\n",
              "      <td>0.25682</td>\n",
              "      <td>1.00000</td>\n",
              "      <td>-0.32382</td>\n",
              "      <td>1.00000</td>\n",
              "      <td>b</td>\n",
              "    </tr>\n",
              "    <tr>\n",
              "      <th>4</th>\n",
              "      <td>1</td>\n",
              "      <td>0</td>\n",
              "      <td>1.00000</td>\n",
              "      <td>-0.02401</td>\n",
              "      <td>0.94140</td>\n",
              "      <td>0.06531</td>\n",
              "      <td>0.92106</td>\n",
              "      <td>-0.23255</td>\n",
              "      <td>0.77152</td>\n",
              "      <td>-0.16399</td>\n",
              "      <td>...</td>\n",
              "      <td>-0.65158</td>\n",
              "      <td>0.13290</td>\n",
              "      <td>-0.53206</td>\n",
              "      <td>0.02431</td>\n",
              "      <td>-0.62197</td>\n",
              "      <td>-0.05707</td>\n",
              "      <td>-0.59573</td>\n",
              "      <td>-0.04608</td>\n",
              "      <td>-0.65697</td>\n",
              "      <td>g</td>\n",
              "    </tr>\n",
              "  </tbody>\n",
              "</table>\n",
              "<p>5 rows × 35 columns</p>\n",
              "</div>\n",
              "      <button class=\"colab-df-convert\" onclick=\"convertToInteractive('df-d2aec37a-af7d-4762-af41-cf2dc2270eec')\"\n",
              "              title=\"Convert this dataframe to an interactive table.\"\n",
              "              style=\"display:none;\">\n",
              "        \n",
              "  <svg xmlns=\"http://www.w3.org/2000/svg\" height=\"24px\"viewBox=\"0 0 24 24\"\n",
              "       width=\"24px\">\n",
              "    <path d=\"M0 0h24v24H0V0z\" fill=\"none\"/>\n",
              "    <path d=\"M18.56 5.44l.94 2.06.94-2.06 2.06-.94-2.06-.94-.94-2.06-.94 2.06-2.06.94zm-11 1L8.5 8.5l.94-2.06 2.06-.94-2.06-.94L8.5 2.5l-.94 2.06-2.06.94zm10 10l.94 2.06.94-2.06 2.06-.94-2.06-.94-.94-2.06-.94 2.06-2.06.94z\"/><path d=\"M17.41 7.96l-1.37-1.37c-.4-.4-.92-.59-1.43-.59-.52 0-1.04.2-1.43.59L10.3 9.45l-7.72 7.72c-.78.78-.78 2.05 0 2.83L4 21.41c.39.39.9.59 1.41.59.51 0 1.02-.2 1.41-.59l7.78-7.78 2.81-2.81c.8-.78.8-2.07 0-2.86zM5.41 20L4 18.59l7.72-7.72 1.47 1.35L5.41 20z\"/>\n",
              "  </svg>\n",
              "      </button>\n",
              "      \n",
              "  <style>\n",
              "    .colab-df-container {\n",
              "      display:flex;\n",
              "      flex-wrap:wrap;\n",
              "      gap: 12px;\n",
              "    }\n",
              "\n",
              "    .colab-df-convert {\n",
              "      background-color: #E8F0FE;\n",
              "      border: none;\n",
              "      border-radius: 50%;\n",
              "      cursor: pointer;\n",
              "      display: none;\n",
              "      fill: #1967D2;\n",
              "      height: 32px;\n",
              "      padding: 0 0 0 0;\n",
              "      width: 32px;\n",
              "    }\n",
              "\n",
              "    .colab-df-convert:hover {\n",
              "      background-color: #E2EBFA;\n",
              "      box-shadow: 0px 1px 2px rgba(60, 64, 67, 0.3), 0px 1px 3px 1px rgba(60, 64, 67, 0.15);\n",
              "      fill: #174EA6;\n",
              "    }\n",
              "\n",
              "    [theme=dark] .colab-df-convert {\n",
              "      background-color: #3B4455;\n",
              "      fill: #D2E3FC;\n",
              "    }\n",
              "\n",
              "    [theme=dark] .colab-df-convert:hover {\n",
              "      background-color: #434B5C;\n",
              "      box-shadow: 0px 1px 3px 1px rgba(0, 0, 0, 0.15);\n",
              "      filter: drop-shadow(0px 1px 2px rgba(0, 0, 0, 0.3));\n",
              "      fill: #FFFFFF;\n",
              "    }\n",
              "  </style>\n",
              "\n",
              "      <script>\n",
              "        const buttonEl =\n",
              "          document.querySelector('#df-d2aec37a-af7d-4762-af41-cf2dc2270eec button.colab-df-convert');\n",
              "        buttonEl.style.display =\n",
              "          google.colab.kernel.accessAllowed ? 'block' : 'none';\n",
              "\n",
              "        async function convertToInteractive(key) {\n",
              "          const element = document.querySelector('#df-d2aec37a-af7d-4762-af41-cf2dc2270eec');\n",
              "          const dataTable =\n",
              "            await google.colab.kernel.invokeFunction('convertToInteractive',\n",
              "                                                     [key], {});\n",
              "          if (!dataTable) return;\n",
              "\n",
              "          const docLinkHtml = 'Like what you see? Visit the ' +\n",
              "            '<a target=\"_blank\" href=https://colab.research.google.com/notebooks/data_table.ipynb>data table notebook</a>'\n",
              "            + ' to learn more about interactive tables.';\n",
              "          element.innerHTML = '';\n",
              "          dataTable['output_type'] = 'display_data';\n",
              "          await google.colab.output.renderOutput(dataTable, element);\n",
              "          const docLink = document.createElement('div');\n",
              "          docLink.innerHTML = docLinkHtml;\n",
              "          element.appendChild(docLink);\n",
              "        }\n",
              "      </script>\n",
              "    </div>\n",
              "  </div>\n",
              "  "
            ]
          },
          "metadata": {},
          "execution_count": 103
        }
      ]
    },
    {
      "cell_type": "markdown",
      "source": [
        "## Μελέτη του Dataset\n",
        "\n",
        "### Σύντομη παρουσίαση\n",
        "Τα δεδομένα του Dataset προέρχονται από μετρήσεις με ραντάρ που συλλέχθηκαν από το Goose Bay στην περιοχή Λαμπραντόρ. Το σύστημα που χρησιμοποιήθηκε για τις μετρήσεις αποτελειται από μια συστοιχία φάσεων με 16 κεραίες υψήλης συχνότητας και συνολική μεταδιδόμενη ισχύ στα 6.4 kW. Στόχος ήταν ο εντοπισμός ελεύθερων ηλεκτρονίων στην ιονόσφαιρα, με αποτέλεσμα καλές (Good) να θεωρούνται οι μετρήσεις που υποδεικνύουν την παρουσία κάποιου είδους δομής στην ιονόσφαιρα. Από την άλλη, ως κακή (\"bad\") θεωρούμε μία μέτρηση που δεν εντόπισε οποιαδήποτε δομή, με αποτέλεσμα το σήμα να διαπερνά την ιονόσφαιρα.\n",
        "\n",
        "Το λαμβανόμενο σήμα υπέστη επεξεργασία χρησιμοποιώντας μια συνάρτηση αυτοσυσχέτησης, που δέχεται ως όρισμα τον χρόνο ενός παλμού και τον αριθμό του και επιστρέφει μια μιγαδική τιμή. Δεδομένου ότι χρησιμοποιήθηκαν 17 διαφορετικοί παλμοί και ότι ο κάθε παλμός περιγράφεται με 2 τιμές (= 1 μιγαδικός αριθμός) καταλήγουμε να έχουμε 34 διαφορετικά attributes για κάθε δείγμα.\n",
        "Το dataset αποτελείται\n",
        "\n",
        "### Εισαγωγή dataset και χαρακτηριστικά αυτού\n",
        "- Δεν χρειάστηκε να γίνει οποιαδήποτε μετατροπή του .txt αρχείου για την εισαγωγή του dataset.\n",
        "\n",
        "- Με βάση την παραπάνω περιγραφή είναι εμφανές ότι το dataset έχει 34 χαρακτηριστικά, τα οποία είναι όλα αριθμοί, αφού περιγράφουν μιγαδικές τιμές.\n",
        "\n",
        "- Ο αριθμός δειγμάτων ανέρχεται στα 351\n",
        "\n",
        "- Η τελευταία στήλη (35η) είναι το αποτέλεσμα της μέτρησης που παίρνει τιμές {g,b}, ανάλογα με το αν είχαμε καλή ή κακή ένδειξη. Στο σημείο αυτό κάναμε μετατροπή της κλάσης g σε 1 και της b σε 0.\n",
        "\n",
        "- Δεν υπάρχουν οποιεσδήποτε άλλες τιμές, όπως αριθμηση γραμμών, στήλων ή επικεφαλίδες. Επίσης δεν υπάρχουν απουσιάζουσες τιμές, κάτι που δηλώνεται ρητά στην περιγραφή του dataset.\n",
        "\n",
        "- Τέλος δεν υπάρχει κάποια ταξινόμηση στην σειρά με την οποία μας δίνονται τα δεδομένα, δηλαδή τα καλά αποτελέσματα (g) και τα κακά (b) είναι ανακατεμένα.\n"
      ],
      "metadata": {
        "id": "cpNWmEXCW_FI"
      }
    },
    {
      "cell_type": "code",
      "source": [
        "#Μετατροπή της κλάσης g σε 1 και της b σε 0.\n",
        "df = df.replace('g', 1)\n",
        "df = df.replace('b', 0)\n",
        "\n",
        "# μετατροπή του dataframe σε numpy array\n",
        "data = df.to_numpy()\n",
        "\n",
        "# Στον πίνακα X αποθηκεύουμε τα attributes\n",
        "X = data[0:data.shape[0], 0:data.shape[1] - 1]\n",
        "# Στον Y αποθηκεύουμε την κλάση του εκάστοτε δείγματος\n",
        "y = data[0:data.shape[0], -1]"
      ],
      "metadata": {
        "id": "xjKKAzbqQ4sB"
      },
      "execution_count": 104,
      "outputs": []
    },
    {
      "cell_type": "markdown",
      "source": [
        "### Ελέγχουμε αν οι κλάσεις είναι ισορροπημένες"
      ],
      "metadata": {
        "id": "hW__Cncdicgs"
      }
    },
    {
      "cell_type": "code",
      "source": [
        "plt.hist(y, range=(-1, 2), align='mid')     # classes are unbalanced\n",
        "plt.title(\"Ininital Number of good (=1) and bad (=0) results\")\n",
        "plt.show()"
      ],
      "metadata": {
        "colab": {
          "base_uri": "https://localhost:8080/",
          "height": 281
        },
        "id": "nK2N1dB_iOuc",
        "outputId": "7ba56bef-176b-42ab-f143-412a0d508b6a"
      },
      "execution_count": 105,
      "outputs": [
        {
          "output_type": "display_data",
          "data": {
            "text/plain": [
              "<Figure size 432x288 with 1 Axes>"
            ],
            "image/png": "[encoded data removed]"
          },
          "metadata": {
            "needs_background": "light"
          }
        }
      ]
    },
    {
      "cell_type": "markdown",
      "source": [
        "Είναι εμφανές ότι τα καλά αποτελέσματα (g ή αλλιως 1) είναι αρκέτα περισσότερα από τα αρνητικά (b ή 0), με αποτέλεσμα οι κλάσεις να μην είναι ισορροπημένες."
      ],
      "metadata": {
        "id": "BhKEEkZljaP_"
      }
    },
    {
      "cell_type": "markdown",
      "source": [
        "## Προετοιμασία Dataset\n",
        "Έχοντας ήδη μετατρέψει τις κλάσεις good σε 1 και bad σε 0, μένει μόνο να χωρίσουμε το Dataset σε train set και test set με ποσοστό 30% των δειγμάτων στο test set."
      ],
      "metadata": {
        "id": "yUxFu--pj19Z"
      }
    },
    {
      "cell_type": "code",
      "source": [
        "X_train, X_test, y_train, y_test = train_test_split(X, y, test_size=0.3)"
      ],
      "metadata": {
        "id": "waRFfmRbjqdO"
      },
      "execution_count": 106,
      "outputs": []
    },
    {
      "cell_type": "markdown",
      "source": [
        "## Ταξινόμηση\n",
        "Αξιολόγηση διαφόρων ταξινομητών out of the box, με όλες τις παραμέτρους σε default τιμές. Ως μετρικές θα χρησιμοποιήσουμε την ορθότητα (accuracy), και το F1-score.\n",
        "\n",
        "Επίσης για κάθε εκτιμητή θα υπολογίσουμε το cross validation score, δηλαδή την απόδοση του εκτιμητή, όπως αυτή προκύπτει χρησιμοποιώντας 10-fold cross-validation. Για τον σκοπό αυτόν κατασκευάσαμε μια γενική συνάρτηση evaluate_classifier που, έχοντας ως είσοδο έναν εκτιμητή, υπολογίζει την απόδοση αυτού για κάθε ένα από τα 10 folds και επιστρέφει την μέση τιμή των αποδόσεων αυτών."
      ],
      "metadata": {
        "id": "sCoOyemZklwX"
      }
    },
    {
      "cell_type": "code",
      "source": [
        "def evaluate_classifier(clf, X, y, folds=10):\n",
        "    # using classifier clf, we get 10 different scores,\n",
        "    # by using 10 fold cross validation\n",
        "    scores = cross_val_score(clf, X, y, cv=10, n_jobs = 1)\n",
        "    return np.mean(scores)"
      ],
      "metadata": {
        "id": "4cTgni2F_Wpx"
      },
      "execution_count": 107,
      "outputs": []
    },
    {
      "cell_type": "markdown",
      "source": [
        "#### 1) Dummy Classifier"
      ],
      "metadata": {
        "id": "V5XEmpDH92Z6"
      }
    },
    {
      "cell_type": "code",
      "source": [
        "dummyclf = DummyClassifier()\n",
        "dummyclf.fit(X_train, y_train)\n",
        "dummyclf_accuracy = metrics.accuracy_score(y_test, dummyclf.predict(X_test))\n",
        "dummyclf_f1_score = metrics.f1_score(y_test, dummyclf.predict(X_test))\n",
        "dummyclf_cross_val_score = evaluate_classifier(dummyclf, X_train, y_train)"
      ],
      "metadata": {
        "id": "O1x_RcD59mil"
      },
      "execution_count": 108,
      "outputs": []
    },
    {
      "cell_type": "markdown",
      "source": [
        "#### 2) Gaussian Naive Bayes (GNB)"
      ],
      "metadata": {
        "id": "S7-gnNev_414"
      }
    },
    {
      "cell_type": "code",
      "source": [
        "gaussianNBclf = GaussianNB()\n",
        "gaussianNBclf.fit(X_train, y_train)\n",
        "gaussianNBclf_accuracy = metrics.accuracy_score(y_test, gaussianNBclf.predict(X_test))\n",
        "gaussianNBclf_f1_score = metrics.f1_score(y_test, gaussianNBclf.predict(X_test))\n",
        "gaussianNB_cross_val_score = evaluate_classifier(gaussianNBclf, X_train, y_train)"
      ],
      "metadata": {
        "id": "_wCaYtytAFcP",
        "colab": {
          "base_uri": "https://localhost:8080/"
        },
        "outputId": "1120727e-b131-4e8d-ab8d-1572a0f37cac"
      },
      "execution_count": 189,
      "outputs": [
        {
          "output_type": "stream",
          "name": "stdout",
          "text": [
            "0.8962264150943396 0.9308176100628931\n"
          ]
        }
      ]
    },
    {
      "cell_type": "markdown",
      "source": [
        "#### 3) KNeirestNeighbors (kNN)"
      ],
      "metadata": {
        "id": "Jb_fZJyqAQZc"
      }
    },
    {
      "cell_type": "code",
      "source": [
        "neighborsclf = KNeighborsClassifier()\n",
        "neighborsclf.fit(X_train, y_train)\n",
        "neighborsclf_accuracy = metrics.accuracy_score(y_test, neighborsclf.predict(X_test))\n",
        "neighborsclf_f1_score = metrics.f1_score(y_test, neighborsclf.predict(X_test))\n",
        "neighborsclf_cross_val_score = evaluate_classifier(neighborsclf, X_train, y_train)"
      ],
      "metadata": {
        "id": "XEV-xVCEAHRt"
      },
      "execution_count": 110,
      "outputs": []
    },
    {
      "cell_type": "markdown",
      "source": [
        "#### 4) Logistic Regression (LR)"
      ],
      "metadata": {
        "id": "7XuBMrwzAQ47"
      }
    },
    {
      "cell_type": "code",
      "source": [
        "logisticRegressorclf = LogisticRegression()\n",
        "logisticRegressorclf.fit(X_train, y_train)\n",
        "logisticRegressorclf_accuracy = metrics.accuracy_score(y_test, logisticRegressorclf.predict(X_test))\n",
        "logisticRegressorclf_f1_score = metrics.f1_score(y_test, logisticRegressorclf.predict(X_test))\n",
        "logisticRegressorclf_cross_val_score = evaluate_classifier(logisticRegressorclf, X_train, y_train)"
      ],
      "metadata": {
        "id": "KEzzjLPNAJNl"
      },
      "execution_count": 111,
      "outputs": []
    },
    {
      "cell_type": "markdown",
      "source": [
        "### Αποτελέσματα της Ορθότητας (Accuracy) των Classifiers"
      ],
      "metadata": {
        "id": "0b1NOcbLAetA"
      }
    },
    {
      "cell_type": "code",
      "source": [
        "results_accuracy = {'Dummy':dummyclf_accuracy, 'Gaussian NB': gaussianNBclf_accuracy,\n",
        "                    'K Neighbors': neighborsclf_accuracy, 'LR':logisticRegressorclf_accuracy}\n",
        "\n",
        "plt.figure(figsize=(10, 5))\n",
        "plt.bar(list(results_accuracy.keys()), list(results_accuracy.values()), width = 0.4)\n",
        "plt.title(\"Accuracy for Out-Of-The-Box Classifiers\")\n",
        "plt.show()\n",
        "\n",
        "for k in results_accuracy.keys():\n",
        "  print(f\"{k} : {results_accuracy[k]*100}%\")"
      ],
      "metadata": {
        "colab": {
          "base_uri": "https://localhost:8080/",
          "height": 405
        },
        "id": "gMdAK6zgAvjm",
        "outputId": "932dff5b-ffab-4fd3-f887-e012716c3d79"
      },
      "execution_count": 112,
      "outputs": [
        {
          "output_type": "display_data",
          "data": {
            "text/plain": [
              "<Figure size 720x360 with 1 Axes>"
            ],
            "image/png": "[encoded data removed]"
          },
          "metadata": {
            "needs_background": "light"
          }
        },
        {
          "output_type": "stream",
          "name": "stdout",
          "text": [
            "Dummy : 72.64150943396226%\n",
            "Gaussian NB : 89.62264150943396%\n",
            "K Neighbors : 84.90566037735849%\n",
            "LR : 89.62264150943396%\n"
          ]
        }
      ]
    },
    {
      "cell_type": "markdown",
      "source": [
        "Βλέπουμε ότι την καλύτερη απόδοση την έχουν ο GNB και ο LR, με ποσοστό επιτυχίας 89%.  και ο KNN με 85%. Στην τελευταία θέση, έχοντας σημαντική διαφορά με τους υπόλοιπους ταξινομητές, βρίσκεται φυσικά ο Dummy, με μόλις 72% επιτυχία. Τα αποτελέσματα των τριών πρώτων ταξινομητών είναι αρκετά κοντά μεταξύ τους, τόσο που δεδομένης της στοχαστικότητας της διαδικασίας εκπαίδευσης, τα αποτελέσματα διαφέρουν αν κανείς ξανατρέξει τον κώδικα. Μάλιστα, σε προηγούμενο διαχωρισμό των δεδομένων σε Train set και dataset, ο RL φαινόταν να έχει τα καλύτερα αποτελέσματα μεταξύ των ταξινομητών. Πάντα όμως η διαφορά στην απόδοση των RL, GNB και KNN είναι το πολύ της τάξης του 5%. \n",
        "\n",
        "### Αποτελέσματα F1-score των Classifiers"
      ],
      "metadata": {
        "id": "EBoCMLzUB0RR"
      }
    },
    {
      "cell_type": "code",
      "source": [
        "results_f1 = {'Dummy':dummyclf_f1_score, 'Gaussian NB': gaussianNBclf_f1_score,\n",
        "                    'K Neighbors': neighborsclf_f1_score, 'LR':logisticRegressorclf_f1_score}\n",
        "\n",
        "plt.figure(figsize=(10, 5))\n",
        "plt.bar(list(results_f1.keys()), list(results_f1.values()), width = 0.4)\n",
        "plt.title(\"F1 score for Out-Of-The-Box Classifiers\")\n",
        "plt.show()\n",
        "\n",
        "for k in results_f1.keys():\n",
        "  print(f\"{k} : {results_f1[k]*100}%\")"
      ],
      "metadata": {
        "colab": {
          "base_uri": "https://localhost:8080/",
          "height": 405
        },
        "id": "1gisme3UD7Xq",
        "outputId": "34ee66a7-c398-41ff-894a-35ea27bbaca7"
      },
      "execution_count": 113,
      "outputs": [
        {
          "output_type": "display_data",
          "data": {
            "text/plain": [
              "<Figure size 720x360 with 1 Axes>"
            ],
            "image/png": "[encoded data removed]"
          },
          "metadata": {
            "needs_background": "light"
          }
        },
        {
          "output_type": "stream",
          "name": "stdout",
          "text": [
            "Dummy : 84.15300546448087%\n",
            "Gaussian NB : 93.08176100628931%\n",
            "K Neighbors : 90.24390243902438%\n",
            "LR : 93.16770186335404%\n"
          ]
        }
      ]
    },
    {
      "cell_type": "markdown",
      "source": [
        "Παρατηρούμε ότι την καλύτερη απόδοση την έχει ο LR, με ποσοστό επιτυχίας 93.1%. Η δεύτερη και τρίτη θέση εξακολουθεί να ανήκει στον GBL με 93% και τον KNN με 90.2%. Πάλι τα αποτελέσματα των τριών πρώτων ταξινομητών είναι αρκετά κοντά μεταξύ τους και είναι αντικείμενα της στοχαστικότητας της διαδικασίας εκπαίδευσης.\n",
        "Στην τελευταία θέση, με σημαντική διαφορά, βρίσκεται φυσικά ο Dummy, αυτή τη φορά έχοντας 84% επιτυχία[link text](https://).\n",
        "\n",
        "### Αποτελέσματα 10 fold cross-validation"
      ],
      "metadata": {
        "id": "G_nj5tOcEhlp"
      }
    },
    {
      "cell_type": "code",
      "source": [
        "results_cross_val_score = {'Dummy':dummyclf_cross_val_score, 'Gaussian NB': gaussianNB_cross_val_score,\n",
        "                    'K Neighbors': neighborsclf_cross_val_score, 'LR':logisticRegressorclf_cross_val_score}\n",
        "\n",
        "plt.figure(figsize=(10, 5))\n",
        "plt.bar(list(results_cross_val_score.keys()), list(results_cross_val_score.values()), width = 0.4)\n",
        "plt.title(\"10 fold cross validation score\")\n",
        "plt.show()\n",
        "\n",
        "for k in results_f1.keys():\n",
        "  print(f\"{k} : {results_cross_val_score[k]*100}%\")"
      ],
      "metadata": {
        "colab": {
          "base_uri": "https://localhost:8080/",
          "height": 405
        },
        "id": "L5abkHVlCzIE",
        "outputId": "c9fc7056-ca89-47fc-9478-70b49dce77cd"
      },
      "execution_count": 114,
      "outputs": [
        {
          "output_type": "display_data",
          "data": {
            "text/plain": [
              "<Figure size 720x360 with 1 Axes>"
            ],
            "image/png": "[encoded data removed]"
          },
          "metadata": {
            "needs_background": "light"
          }
        },
        {
          "output_type": "stream",
          "name": "stdout",
          "text": [
            "Dummy : 60.416666666666664%\n",
            "Gaussian NB : 89.38333333333335%\n",
            "K Neighbors : 84.48333333333335%\n",
            "LR : 86.96666666666665%\n"
          ]
        }
      ]
    },
    {
      "cell_type": "markdown",
      "source": [
        "Τα αποτελέσματα είναι πάλι παρόμοια με αυτά των 2 προηγούμενων μετρικών, αν και τώρα ο ταξινομητής KNN βρίσκεται με μία λιγότερο αμεληταία διαφορά στην 3η θέση."
      ],
      "metadata": {
        "id": "EgtUNwcUGuCz"
      }
    },
    {
      "cell_type": "markdown",
      "source": [
        "### Συνοψη αποτελεσμάτων\n",
        "| Ταξινομητής | F1 score default | Accuracy default |\n",
        "| --- | --- | --- | \n",
        "|Dummy | 84% | 72% | \n",
        "| KNN | 90% | 85% | \n",
        "| GBN | 93% | 89% | \n",
        "| LR | 93% | 89% |\n"
      ],
      "metadata": {
        "id": "yKZV2pD68X3t"
      }
    },
    {
      "cell_type": "markdown",
      "source": [
        "## Βελτιστοποίηση\n",
        "Θα δοκιμάσουμε να βελτιστοποιήσουμε την απόδοση του εκάστοτε classifier μέσω προεπεξεργασίας δεδομένων, χρησιμοποιώντας Pipeline και gridsearch.\n",
        "\n",
        "#### Επιλογή υπερπαραμέτρων\n",
        "Για την επιλογή threshold για τον VarianceThreshold πρέπει πρώτα να βρούμεμε την διασπορά των μεταβλητών"
      ],
      "metadata": {
        "id": "2eHwbq9FIFdI"
      }
    },
    {
      "cell_type": "code",
      "source": [
        "train_variance = X_train.var(axis=0)\n",
        "print(np.max(train_variance))"
      ],
      "metadata": {
        "colab": {
          "base_uri": "https://localhost:8080/"
        },
        "id": "ByQ__e8eQNNP",
        "outputId": "fd44ffc6-52a3-4df7-98e4-890a46ea7292"
      },
      "execution_count": 115,
      "outputs": [
        {
          "output_type": "stream",
          "name": "stdout",
          "text": [
            "0.40428740331557866\n"
          ]
        }
      ]
    },
    {
      "cell_type": "markdown",
      "source": [
        "Έτσι επιλέγουμε τις ακόλουθες τιμές για τις υπερπαραμέτρους"
      ],
      "metadata": {
        "id": "hc1Xb0ddSfa1"
      }
    },
    {
      "cell_type": "code",
      "source": [
        "# Έχουμε 32 attributes, άρα μέχρι 32 n_components\n",
        "n_components = [10, 15, 20, 25, 30, 31] #default = 31 στην περίπτωσή μας\n",
        "\n",
        "# Για τον Dummy\n",
        "strategy = [\"most_frequent\", \"prior\", \"stratified\", \"uniform\"]  #default = prior, η παράμετρος \"strategy\" του Dummy clf\n",
        "# Για τον KNN\n",
        "k = [1, 3, 5, 7, 9, 11] # η υπερπαράμετρος \"n_neighbors\" του ταξινομητή KNN, default = 5\n",
        "# Για τον GNB\n",
        "smoothing = [10**(-9), 10**(-5), 10**(-3), 10**(-1), 1, 2]# η υπερπαράμετρος \"var_smoothing\" του GBN, που έχει default τιμή 1e-9\n",
        "# Για τον LR\n",
        "c = [0.6, 0.9, 1, 1.1, 1.3, 1.6] # η υπερπαράμετρος \"C\" του LR, που έχει default τιμή 1"
      ],
      "metadata": {
        "id": "mJYyjnE8So6h"
      },
      "execution_count": 204,
      "outputs": []
    },
    {
      "cell_type": "code",
      "source": [
        "def GridSearch(clf, score):\n",
        "  # clf = {\"KNN\", \"GNB\", \"LR\", \"Dummy\"}\n",
        "  # score = {'f1_macro', 'accuracy'} \n",
        "  \n",
        "  selector = VarianceThreshold()\n",
        "  scaler = StandardScaler()\n",
        "  ros = RandomOverSampler()\n",
        "  pca = PCA()\n",
        "\n",
        "  if clf == \"Dummy\":\n",
        "    clf = DummyClassifier() \n",
        "    pipe = Pipeline(steps=[('selector', selector), ('scaler', scaler), ('sampler', ros), ('pca', pca), ('Dummy', clf)], memory = 'tmp')\n",
        "    estimator = GridSearchCV(pipe, dict(pca__n_components=n_components, Dummy__strategy=strategy), cv=10, scoring=score, n_jobs=-1)\n",
        "  \n",
        "  elif clf == \"KNN\":\n",
        "    clf = KNeighborsClassifier(n_jobs=-1)\n",
        "    pipe = Pipeline(steps=[('selector', selector), ('scaler', scaler), ('sampler', ros), ('pca', pca), ('kNN', clf)], memory = 'tmp')\n",
        "    estimator = GridSearchCV(pipe, dict(pca__n_components=n_components, kNN__n_neighbors=[1, 3, 5, 7, 9, 11]), cv=10, scoring=score, n_jobs=-1)\n",
        "  \n",
        "  elif clf == \"GNB\":\n",
        "    clf = GaussianNB() \n",
        "    pipe = Pipeline(steps=[('selector', selector), ('scaler', scaler), ('sampler', ros), ('pca', pca), ('GNB', clf)], memory = 'tmp')\n",
        "    estimator = GridSearchCV(pipe, dict(pca__n_components=n_components, GNB__var_smoothing=smoothing), cv=10, scoring=score, n_jobs=-1)\n",
        "\n",
        "  else:\n",
        "    clf = LogisticRegression()\n",
        "    pipe = Pipeline(steps=[('selector', selector), ('scaler', scaler), ('sampler', ros), ('pca', pca), ('LR', clf)], memory = 'tmp')\n",
        "    estimator = GridSearchCV(pipe, dict(pca__n_components=n_components, LR__C=c), cv=10, scoring=score, n_jobs=-1)\n",
        "\n",
        "  #count time\n",
        "  estimator.fit(X_train, y_train)\n",
        "  return estimator"
      ],
      "metadata": {
        "id": "McIXYgOkM_Yl"
      },
      "execution_count": 180,
      "outputs": []
    },
    {
      "cell_type": "markdown",
      "source": [
        "Εύρεση των καλύτερων υπερπαραμέτρων, για κάθε έναν από τους ταξινομητές, για κάθε μία από τις μετρικές."
      ],
      "metadata": {
        "id": "Hqx3envBd055"
      }
    },
    {
      "cell_type": "code",
      "source": [
        "#για τον dummy\n",
        "dummy_f1 = GridSearch('Dummy', \"f1_macro\")\n",
        "dummy_acc = GridSearch('Dummy', \"accuracy\")\n",
        "\n",
        "Dummy_f1_score = metrics.f1_score(y_test, dummy_f1.predict(X_test))\n",
        "Dummy_accuracy = metrics.accuracy_score(y_test, dummy_acc.predict(X_test))\n",
        "\n",
        "print(\"f1:\", dummy_f1.best_params_)\n",
        "print(\"Acc:\", dummy_acc.best_params_)"
      ],
      "metadata": {
        "colab": {
          "base_uri": "https://localhost:8080/"
        },
        "id": "0vljBxphPUtg",
        "outputId": "796f3f1f-e70e-46f8-bdca-f6b18213ac5d"
      },
      "execution_count": 184,
      "outputs": [
        {
          "output_type": "stream",
          "name": "stdout",
          "text": [
            "f1: {'Dummy__strategy': 'stratified', 'pca__n_components': 20}\n",
            "Acc: {'Dummy__strategy': 'stratified', 'pca__n_components': 25}\n"
          ]
        }
      ]
    },
    {
      "cell_type": "code",
      "source": [
        "#για τον ΚΝΝ\n",
        "KNN_f1 = GridSearch('KNN', \"f1_macro\")\n",
        "KNN_acc = GridSearch('KNN', \"accuracy\")\n",
        "\n",
        "KNN_f1_score = metrics.f1_score(y_test, KNN_f1.predict(X_test))\n",
        "KNN_accuracy = metrics.accuracy_score(y_test, KNN_acc.predict(X_test))\n",
        "\n",
        "print(\"f1:\", KNN_f1.best_params_)\n",
        "print(\"Acc:\", KNN_acc.best_params_)"
      ],
      "metadata": {
        "colab": {
          "base_uri": "https://localhost:8080/"
        },
        "id": "2hCMU29-fO8O",
        "outputId": "0f9b942b-a9a3-4401-8dd4-9f52c051c72d"
      },
      "execution_count": 170,
      "outputs": [
        {
          "output_type": "stream",
          "name": "stdout",
          "text": [
            "f1: {'kNN__n_neighbors': 1, 'pca__n_components': 10}\n",
            "Acc: {'kNN__n_neighbors': 1, 'pca__n_components': 10}\n"
          ]
        }
      ]
    },
    {
      "cell_type": "code",
      "source": [
        "#για τον GBN\n",
        "GBN_f1 = GridSearch('GNB', \"f1_macro\")\n",
        "GBN_acc = GridSearch('GNB', \"accuracy\")\n",
        "\n",
        "GBN_f1_score = metrics.f1_score(y_test, GBN_f1.predict(X_test))\n",
        "GBN_accuracy = metrics.accuracy_score(y_test, GBN_acc.predict(X_test))\n",
        "\n",
        "print(\"f1:\", GBN_f1.best_params_)\n",
        "print(\"Acc:\", GBN_acc.best_params_)"
      ],
      "metadata": {
        "colab": {
          "base_uri": "https://localhost:8080/"
        },
        "id": "EYOkx0SnfcaH",
        "outputId": "5b261478-9099-44e5-ce99-2c1a4f9601e9"
      },
      "execution_count": 205,
      "outputs": [
        {
          "output_type": "stream",
          "name": "stdout",
          "text": [
            "f1: {'GNB__var_smoothing': 0.001, 'pca__n_components': 30}\n",
            "Acc: {'GNB__var_smoothing': 0.001, 'pca__n_components': 30}\n"
          ]
        }
      ]
    },
    {
      "cell_type": "code",
      "source": [
        "#για τον LR\n",
        "LR_f1 = GridSearch('LR', \"f1_macro\")\n",
        "LR_acc = GridSearch('LR', \"accuracy\")\n",
        "\n",
        "LR_f1_score = metrics.f1_score(y_test, LR_f1.predict(X_test))\n",
        "LR_accuracy = metrics.accuracy_score(y_test, LR_acc.predict(X_test))\n",
        "\n",
        "print(\"f1:\", LR_f1.best_params_)\n",
        "print(\"Acc:\", LR_acc.best_params_)"
      ],
      "metadata": {
        "colab": {
          "base_uri": "https://localhost:8080/"
        },
        "id": "cmKP7jVsfgQC",
        "outputId": "b011a860-7487-4195-9c69-a56dfb265a9d"
      },
      "execution_count": 172,
      "outputs": [
        {
          "output_type": "stream",
          "name": "stdout",
          "text": [
            "f1: {'LR__C': 1.3, 'pca__n_components': 31}\n",
            "Acc: {'LR__C': 1.3, 'pca__n_components': 31}\n"
          ]
        }
      ]
    },
    {
      "cell_type": "markdown",
      "source": [
        "## Bar plot σύγκρισης των εκτιμητών\n",
        "\n",
        "#### 1) Dummy Classifier"
      ],
      "metadata": {
        "id": "A1UMJp3WhqZh"
      }
    },
    {
      "cell_type": "code",
      "source": [
        "Dummy_results = {'Default f1':dummyclf_f1_score, 'Default Acc': dummyclf_accuracy,\n",
        "                    'Optimized f1': Dummy_f1_score, 'Optimized Acc':Dummy_accuracy}\n",
        "\n",
        "plt.figure(figsize=(10, 5))\n",
        "plt.bar(list(Dummy_results.keys()), list(Dummy_results.values()), width = 0.4)\n",
        "plt.title(\"Dummy Classifier\")\n",
        "plt.show()\n",
        "\n",
        "for k in Dummy_results.keys():\n",
        "  print(f\"{k} : {Dummy_results[k]*100}%\")\n"
      ],
      "metadata": {
        "colab": {
          "base_uri": "https://localhost:8080/",
          "height": 405
        },
        "id": "fGnR0Av2h163",
        "outputId": "6b8b2c77-3c8d-4fa1-dce4-7851ea7d10f9"
      },
      "execution_count": 182,
      "outputs": [
        {
          "output_type": "display_data",
          "data": {
            "text/plain": [
              "<Figure size 720x360 with 1 Axes>"
            ],
            "image/png": "[encoded data removed]"
          },
          "metadata": {
            "needs_background": "light"
          }
        },
        {
          "output_type": "stream",
          "name": "stdout",
          "text": [
            "Default f1 : 84.15300546448087%\n",
            "Default Acc : 72.64150943396226%\n",
            "Optimized f1 : 58.91472868217055%\n",
            "Optimized Acc : 53.77358490566038%\n"
          ]
        }
      ]
    },
    {
      "cell_type": "markdown",
      "source": [
        "#### 2) KNN Classifier"
      ],
      "metadata": {
        "id": "igTA_296j7Zk"
      }
    },
    {
      "cell_type": "code",
      "source": [
        "KNN_results = {'Default f1':neighborsclf_f1_score, 'Default Acc': neighborsclf_accuracy,\n",
        "                    'Optimized f1': KNN_f1_score, 'Optimized Acc':KNN_accuracy}\n",
        "\n",
        "plt.figure(figsize=(10, 5))\n",
        "plt.bar(list(KNN_results.keys()), list(KNN_results.values()), width = 0.4)\n",
        "plt.title(\"KNN Classifier\")\n",
        "plt.show()\n",
        "\n",
        "for k in KNN_results.keys():\n",
        "  print(f\"{k} : {KNN_results[k]*100}%\")"
      ],
      "metadata": {
        "colab": {
          "base_uri": "https://localhost:8080/",
          "height": 405
        },
        "id": "JGyP7Ghoj5Lv",
        "outputId": "48c2f19f-3d14-4676-ef90-c8699db505e2"
      },
      "execution_count": 174,
      "outputs": [
        {
          "output_type": "display_data",
          "data": {
            "text/plain": [
              "<Figure size 720x360 with 1 Axes>"
            ],
            "image/png": "[encoded data removed]"
          },
          "metadata": {
            "needs_background": "light"
          }
        },
        {
          "output_type": "stream",
          "name": "stdout",
          "text": [
            "Default f1 : 90.24390243902438%\n",
            "Default Acc : 84.90566037735849%\n",
            "Optimized f1 : 91.25%\n",
            "Optimized Acc : 86.79245283018868%\n"
          ]
        }
      ]
    },
    {
      "cell_type": "markdown",
      "source": [
        "#### 3) GNB Classifier"
      ],
      "metadata": {
        "id": "rApxqLekkZvu"
      }
    },
    {
      "cell_type": "code",
      "source": [
        "GBN_results = {'Default f1':gaussianNBclf_f1_score, 'Default Acc': gaussianNBclf_accuracy,\n",
        "                    'Optimized f1': GBN_f1_score, 'Optimized Acc':GBN_accuracy}\n",
        "\n",
        "plt.figure(figsize=(10, 5))\n",
        "plt.bar(list(GBN_results.keys()), list(GBN_results.values()), width = 0.4)\n",
        "plt.title(\"GBN Classifier\")\n",
        "plt.show()\n",
        "\n",
        "for k in GBN_results.keys():\n",
        "  print(f\"{k} : {GBN_results[k]*100}%\")"
      ],
      "metadata": {
        "colab": {
          "base_uri": "https://localhost:8080/",
          "height": 405
        },
        "id": "xEh3eTB-kiPJ",
        "outputId": "626f17a0-4830-40a9-d183-e377d72264fd"
      },
      "execution_count": 206,
      "outputs": [
        {
          "output_type": "display_data",
          "data": {
            "text/plain": [
              "<Figure size 720x360 with 1 Axes>"
            ],
            "image/png": "[encoded data removed]"
          },
          "metadata": {
            "needs_background": "light"
          }
        },
        {
          "output_type": "stream",
          "name": "stdout",
          "text": [
            "Default f1 : 93.08176100628931%\n",
            "Default Acc : 89.62264150943396%\n",
            "Optimized f1 : 88.27586206896552%\n",
            "Optimized Acc : 83.9622641509434%\n"
          ]
        }
      ]
    },
    {
      "cell_type": "markdown",
      "source": [
        "#### 4) LR Classifier"
      ],
      "metadata": {
        "id": "efKBesS9k6Li"
      }
    },
    {
      "cell_type": "code",
      "source": [
        "LR_results = {'Default f1':logisticRegressorclf_f1_score, 'Default Acc': logisticRegressorclf_accuracy,\n",
        "                    'Optimized f1': LR_f1_score, 'Optimized Acc':LR_accuracy}\n",
        "\n",
        "plt.figure(figsize=(10, 5))\n",
        "plt.bar(list(LR_results.keys()), list(LR_results.values()), width = 0.4)\n",
        "plt.title(\"LR Classifier\")\n",
        "plt.show()\n",
        "\n",
        "for k in LR_results.keys():\n",
        "  print(f\"{k} : {LR_results[k]*100}%\")"
      ],
      "metadata": {
        "colab": {
          "base_uri": "https://localhost:8080/",
          "height": 405
        },
        "id": "JQTD7936lSNp",
        "outputId": "78796e64-8631-4f85-b289-825362a91856"
      },
      "execution_count": 176,
      "outputs": [
        {
          "output_type": "display_data",
          "data": {
            "text/plain": [
              "<Figure size 720x360 with 1 Axes>"
            ],
            "image/png": "[encoded data removed]"
          },
          "metadata": {
            "needs_background": "light"
          }
        },
        {
          "output_type": "stream",
          "name": "stdout",
          "text": [
            "Default f1 : 93.16770186335404%\n",
            "Default Acc : 89.62264150943396%\n",
            "Optimized f1 : 95.54140127388536%\n",
            "Optimized Acc : 93.39622641509435%\n"
          ]
        }
      ]
    },
    {
      "cell_type": "markdown",
      "source": [
        "## Σχολιασμός Αποτελεσμάτων\n",
        "\n",
        "| Ταξινομητής | F1 score default | Accuracy default | F1 score optimized | Accuracy Optimized | Parameters Used |\n",
        "| --- | --- | --- | --- | --- | --- |\n",
        "|Dummy | 84% | 72% | 58% | 53% |stratified, components=20 |\n",
        "| KNN | 90% | 85% | 91.25% | 87% | k=1, components=10 |\n",
        "| GBN | 93% | 89% | 88% | 84% | smoothing=0.001, comp = 30 | \n",
        "| LR | 93% | 89% | 95% | 93% |  C=1.3, components=31|\n"
      ],
      "metadata": {
        "id": "QEbJQZjoqD07"
      }
    },
    {
      "cell_type": "markdown",
      "source": [
        "### Παρατηρήσεις:\n",
        "Για τον <b> Dummy Classifier </b> είδαμε μία μεγάλη πτώση στις εκτιμήσεις του, παρόλο που χρησιμοποιήσαμε Grid Search. Αυτό ίσως οφείλεται στο ότι ο Dummy Classifier ταξινομεί επιλέγοντας κάθε φορά την πιο δημοφιλή κλάση (στρατηγική prior). Αρχικά όμως είχαμε μη ισορροπημένες κλάσεις, γεγονός που έδινε στον Dummy ιδιαίτερα αυξημένο accuracy, αφού όλες του οι προβλέψεις ήταν 1 (good), κάτι που ίσχυε τουλάχιστον στο 70% των περιπτώσεων. Με το Grid Search ωστόσο, φροντίσαμε να εξισορροπήσουμε το dataset, με αποτέλεσμα η απόδοση του dummy να πέσει λίγο πάνω από το 50%. \n",
        "\n",
        "Για τους <b> ΚΝΝ Classifier </b> και <b> LR Classifier </b>, είδαμε βελτίωση των τελικών αποτελεσμάτων της τάξης 2-3%. Αυτό συνέβη επιλέγοντας καλύτερες υπερπαραμέτρους με την βοήθεια του grid search, όπως για παράδειγμα 1 κοντινότερο γείτονα αντί για 5 που ήταν η default τιμή. Ο δε Logistic Regration ήταν εξ αρχής (out of the box) αλλά και εν τέλει (χρησιμοποιώντας βέλτιστες υπερπαραμέτρους) η καλύτερη επιλογή για το πρόβλημα μας. Το τελικό ποσοστό accuracy έφτασε το 95% και η μετρική f1 score το 93%.\n",
        "\n",
        "Ο <b> GBΝ Classifier </b> ήταν ο μόνος εκτιμητής του οποίου η απόδοση έπεσε συγκριτικά με την out of the box. Η πτώση δεν ήταν ιδιαίτερα μεγάλη (της τάξης του 4%) ωστόσο εγγείρει προβληματισμό. Δεδομένου ότι όλες οι παράμετροι που δώθηκαν στο Greed Search περιλάμβαν τις default τιμές του out of the box Gaussian BN classifier, η πιο λογική εξήγηση κρύβεται πάλι στην εξισορρόπηση των κλάσεων που έγινε. Σε αυτό το σημείο αξίζει κανείς να αναφέρει ότι ο εν λόγω εκτιμητής είχε ακρετές μεταπτώσεις στα αποτελέσματά του, ανάλογα με το αρχικό seed που δινόταν στην αρχή του notebook. Στην συγκεκριμένη φάση χρησιμοποιήσαμε seed(1), κάτι που οδήγησε σε 93% αρχικό accuracy, ωστόσο υπήρχαν άλλες φορές, που ο ίδιος εκτιμητής Out of the box, έδωσε γύρω στο 88% accuracy, ανάλογα το split σε test και train set. Τέλος αξίζει να σημειωθεί ότι ο GBN υποθέτει πως ο covariance matrix είναι διαγώνιος, ενώ στην πραγματικότητα μπορεί να μην είναι. H επανάληψη κάποιων instances της κλάσης bad(0) ώστε να επέλθει εξισορρόπηση κλάσεων, μπορεί να κατέστησε την υπόθεση αυτή όχι τόσο κοντά στην πραγματικότητα, μειώνοντας την αποτελεσματικότητα του αλγορίθμου."
      ],
      "metadata": {
        "id": "Uv8MvdAGy4FA"
      }
    },
    {
      "cell_type": "markdown",
      "source": [
        "### Πίνακες σύγχυσης\n",
        "Τα βέλτιστα αποτελέσματα του κάθε εκτιμητή, φαίνεται ότι επιτυχγάνονται με την χρήση των ίδιων υπερπαραμέτρων, ανεξαρτήτως από το ποια μετρική κοιτάμε. Ως εκ τούτου, στους ακόλουθους πίνακες σύγχυσης θα χρησιμοποιήσουμε τους _f1 classifiers, που ταυτίζονται άλλωστε με αυτούς της μετρικής accuracy.\n",
        "\n",
        "#### 1) ΚΝΝ"
      ],
      "metadata": {
        "id": "5n3bauX206X5"
      }
    },
    {
      "cell_type": "code",
      "source": [
        "cm = sklearn.metrics.confusion_matrix(y_test, KNN_f1.predict(X_test))\n",
        "sns.heatmap(cm, annot=True,  linewidths=.5)"
      ],
      "metadata": {
        "colab": {
          "base_uri": "https://localhost:8080/",
          "height": 282
        },
        "id": "J5CAQJR1zsX4",
        "outputId": "d59b1bbf-511e-440d-a854-b26180d87d6b"
      },
      "execution_count": 210,
      "outputs": [
        {
          "output_type": "execute_result",
          "data": {
            "text/plain": [
              "<matplotlib.axes._subplots.AxesSubplot at 0x7fbe78384f70>"
            ]
          },
          "metadata": {},
          "execution_count": 210
        },
        {
          "output_type": "display_data",
          "data": {
            "text/plain": [
              "<Figure size 432x288 with 2 Axes>"
            ],
            "image/png": "[encoded data removed]"
          },
          "metadata": {
            "needs_background": "light"
          }
        }
      ]
    },
    {
      "cell_type": "markdown",
      "source": [
        "#### 2) BGN "
      ],
      "metadata": {
        "id": "7TvDyxim2cYa"
      }
    },
    {
      "cell_type": "code",
      "source": [
        "cm = sklearn.metrics.confusion_matrix(y_test, GBN_f1.predict(X_test))\n",
        "sns.heatmap(cm, annot=True,  linewidths=.5)"
      ],
      "metadata": {
        "colab": {
          "base_uri": "https://localhost:8080/",
          "height": 282
        },
        "id": "jCrQrYiu2iXy",
        "outputId": "741afe4d-7dae-4a59-87a3-f16c05172e1e"
      },
      "execution_count": 213,
      "outputs": [
        {
          "output_type": "execute_result",
          "data": {
            "text/plain": [
              "<matplotlib.axes._subplots.AxesSubplot at 0x7fbe782eb3d0>"
            ]
          },
          "metadata": {},
          "execution_count": 213
        },
        {
          "output_type": "display_data",
          "data": {
            "text/plain": [
              "<Figure size 432x288 with 2 Axes>"
            ],
            "image/png": "[encoded data removed]"
          },
          "metadata": {
            "needs_background": "light"
          }
        }
      ]
    },
    {
      "cell_type": "markdown",
      "source": [
        "#### 3) LR"
      ],
      "metadata": {
        "id": "ATFFYzK03RmS"
      }
    },
    {
      "cell_type": "code",
      "source": [
        "cm = sklearn.metrics.confusion_matrix(y_test, LR_f1.predict(X_test))\n",
        "sns.heatmap(cm, annot=True,  linewidths=.5)"
      ],
      "metadata": {
        "colab": {
          "base_uri": "https://localhost:8080/",
          "height": 282
        },
        "id": "raSCW9Zh3UrN",
        "outputId": "a482c216-a6a4-4304-a0ce-e1487b4eaa3f"
      },
      "execution_count": 214,
      "outputs": [
        {
          "output_type": "execute_result",
          "data": {
            "text/plain": [
              "<matplotlib.axes._subplots.AxesSubplot at 0x7fbe7b3aa970>"
            ]
          },
          "metadata": {},
          "execution_count": 214
        },
        {
          "output_type": "display_data",
          "data": {
            "text/plain": [
              "<Figure size 432x288 with 2 Axes>"
            ],
            "image/png": "[encoded data removed]"
          },
          "metadata": {
            "needs_background": "light"
          }
        }
      ]
    },
    {
      "cell_type": "markdown",
      "source": [
        "### Σχολιασμός Πινάκων Σύγχυσης\n",
        "Μετά την βελτιστοποίηση, αποδείχθηκε ότι ο καλύτερος ταξινομητής είναι ο logistic Regression, κάτι που είναι εμφανές και στους πίνακες σύγχυσης. Στον πίνακα του Logistic Regression τα κελιά (0,0) και (1,1) έχουν αρκετά ανοιχτό χρώμα (που συνεπάγεται με πολλές ορθές απαντήσεις, ενώ τα κελιά σφαλμάτων (0,1) και (1,0) είναι πολύ πιο σκούρα, γεγονός που δείχνει μικρό αριθμό λανθασμένων εκτιμήσεων. Συνολικά οι εσφαλμένες εκτιμήσεις του LR ήταν μόλις 7, έναντι 14 και 17 των ΚΝΝ και GNB αντίστοιχα.\n",
        "\n",
        "## Τελικά Αποτελέσματα\n",
        "Όπως έχει ήση προαναφερθεί, έπειτα από τις βελτιστοποιήσεις, την καλύτερη αποτελεσματικότητα έχει ο αλγόριθμος Logistic Regression, που φτάνει ένα ποσοστό 95%. Αυτός θα ήταν και ο αλγόριθμος που θα προτιμούσαμε για το πρόβλημα αυτό, αν και οι υπόλοιποι αλγόριθμοι δεν υστερούν ιδιαίτερα πολυ σε αποτελεσματικότητα. Όσον αφορά στους χρόνους που χρειάστηκαν για την εκπαίδευση των εκτιμητών αλλά και το test αυτών, ήταν ιδιαίτερα κοντινοί μεταξύ τους και ανέρχονταν σε μόλις κλάσματα του δευτερολέπτου. Αυτό φυσικά οφείλεται στο ότι το dataset μας είναι ιδιαίτερα μικρό, με μόλις 351 entries συνολικά. Αυτό συνεπάγεται με 245 instances για εκπαίδευση και 106 και τεστ. Οι αριθμοί αυτοί είναι προφανώς πολύ μικροί για να διαπιστωθούν διαφορές μεταξύ των ταξινομητών ως προς τον χρόνο εκπαίδευσης. Αν τα δεδομένα ήταν σημαντικά περισσότερα (δεκάδες χιλιάδες πιθανώς), τότε θα έιχε νόημα να επιλέξουμε ταξινομητή βασιζόμενοι και στην ταχύτητά του, αλλά για τόσο μικρό dataset, η επιλογή του πιο accurate ταξινομητή είναι μονόδρομος."
      ],
      "metadata": {
        "id": "BNjdri5b-JwN"
      }
    }
  ]
}